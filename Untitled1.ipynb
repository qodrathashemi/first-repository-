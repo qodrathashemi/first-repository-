{
  "nbformat": 4,
  "nbformat_minor": 0,
  "metadata": {
    "colab": {
      "name": "Untitled1.ipynb",
      "provenance": [],
      "authorship_tag": "ABX9TyO5zKVfsurnKNsuhS1XMJRo",
      "include_colab_link": true
    },
    "kernelspec": {
      "name": "python3",
      "display_name": "Python 3"
    },
    "language_info": {
      "name": "python"
    }
  },
  "cells": [
    {
      "cell_type": "markdown",
      "metadata": {
        "id": "view-in-github",
        "colab_type": "text"
      },
      "source": [
        "<a href=\"https://colab.research.google.com/github/qodrathashemi/first-repository-/blob/main/Untitled1.ipynb\" target=\"_parent\"><img src=\"https://colab.research.google.com/assets/colab-badge.svg\" alt=\"Open In Colab\"/></a>"
      ]
    },
    {
      "cell_type": "code",
      "execution_count": 3,
      "metadata": {
        "colab": {
          "base_uri": "https://localhost:8080/"
        },
        "id": "DiKFXvtrw-y4",
        "outputId": "01a45940-db89-43d4-d0c0-15d058a26c6f"
      },
      "outputs": [
        {
          "output_type": "stream",
          "name": "stdout",
          "text": [
            "Mounted at /content/drive\n"
          ]
        }
      ],
      "source": [
        "# importing important libraries \n",
        "import pandas as pd\n",
        "import numpy as np\n",
        "from google.colab import drive\n",
        "# importing the dataset \n",
        "drive.mount(\"/content/drive\")\n",
        "path = \"/content/drive/MyDrive/Colab Notebooks/4ms_10 av_30 s_Absorbance_10-32-04-868 (1) (1).txt\"\n",
        "from google.colab import data_table\n",
        "data_table.enable_dataframe_formatter()\n",
        "import matplotlib.pyplot as plt\n"
      ]
    },
    {
      "cell_type": "code",
      "source": [
        "drive.mount(\"/content/drive\", force_remount=True)"
      ],
      "metadata": {
        "colab": {
          "base_uri": "https://localhost:8080/"
        },
        "id": "rggUy5d1xhzR",
        "outputId": "f8f0ffc0-0490-40bb-ae53-eabf172b3054"
      },
      "execution_count": 4,
      "outputs": [
        {
          "output_type": "stream",
          "name": "stdout",
          "text": [
            "Mounted at /content/drive\n"
          ]
        }
      ]
    },
    {
      "cell_type": "code",
      "source": [
        "# the following code gives the text part of the dataset and saves it as text file in my google drive \n",
        "path2 = \"/content/drive/MyDrive/Colab Notebooks.text\"\n",
        "headers_text = pd.read_csv(path)\n",
        "text_part = headers_text.head(12)\n",
        "text_part.to_csv(path2, index = False)"
      ],
      "metadata": {
        "id": "-gbOg-a1143j"
      },
      "execution_count": 5,
      "outputs": []
    },
    {
      "cell_type": "code",
      "source": [
        "# removing the tabs between the points and illustrate them as a dataframe\n",
        "absorb = pd.read_csv(path, delimiter=\"\\t\", header = 13)"
      ],
      "metadata": {
        "id": "nYGgm8yWxiJr"
      },
      "execution_count": 113,
      "outputs": []
    },
    {
      "cell_type": "code",
      "source": [
        "# takes the titile of each column which is the wavelength and converts it to strings and saves them in a list\n",
        "wavelenghts = absorb.columns.values.tolist()\n"
      ],
      "metadata": {
        "id": "DxLhxzdQ7wq5"
      },
      "execution_count": 9,
      "outputs": []
    },
    {
      "cell_type": "code",
      "source": [
        " # running twice, removes the first two items which are strings\n",
        " wavelengths_no1 = wavelenghts.pop(0)\n",
        " wavelengths_no1"
      ],
      "metadata": {
        "id": "dU2l8aF5B2vD",
        "colab": {
          "base_uri": "https://localhost:8080/",
          "height": 35
        },
        "outputId": "e402b4ce-423e-425f-987b-cc5d7bb60d72"
      },
      "execution_count": 16,
      "outputs": [
        {
          "output_type": "execute_result",
          "data": {
            "text/plain": [
              "'Unnamed: 1'"
            ],
            "application/vnd.google.colaboratory.intrinsic+json": {
              "type": "string"
            }
          },
          "metadata": {},
          "execution_count": 16
        }
      ]
    },
    {
      "cell_type": "code",
      "source": [
        "# converts the time in seconds and gives the values for x axis\n",
        "x_axis = (absorb.iloc[:,1]-absorb.iloc[0,1])/1000\n",
        "(x_axis)"
      ],
      "metadata": {
        "id": "uB-jeBA-Mgs5",
        "colab": {
          "base_uri": "https://localhost:8080/"
        },
        "outputId": "6060b487-ea2e-4e94-b9c6-41b7118d4cee"
      },
      "execution_count": 17,
      "outputs": [
        {
          "output_type": "execute_result",
          "data": {
            "text/plain": [
              "355"
            ]
          },
          "metadata": {},
          "execution_count": 17
        }
      ]
    },
    {
      "cell_type": "code",
      "source": [
        "# converts the values in int and removes the numbers that occur more than once.\n",
        "round12 = []\n",
        "round22 = []\n",
        "round32 = []\n",
        "round42 = []\n",
        "for i in range(len(wavelenghts)):\n",
        "  convert_to_float = int(float(wavelenghts[i]))\n",
        "  round12.append(convert_to_float)\n",
        "  i += 1\n",
        "  remove_duplicates = list(dict.fromkeys(round12))\n",
        "  if i == len(wavelenghts):\n",
        "    for j in range(0, len(remove_duplicates),2):\n",
        "      round22.append(remove_duplicates[j])\n",
        "  if i == len(wavelenghts):\n",
        "    for k in range(0, len(remove_duplicates),3):\n",
        "      round32.append(remove_duplicates[k])\n",
        "  if i == len(wavelenghts):\n",
        "    for d in range(0, len(remove_duplicates),4):\n",
        "      round42.append(remove_duplicates[d])"
      ],
      "metadata": {
        "id": "3N75f8gfA3H4"
      },
      "execution_count": 129,
      "outputs": []
    },
    {
      "cell_type": "code",
      "source": [
        "#saving reduced data as csv\n",
        "df1 = pd.DataFrame(remove_duplicates)\n",
        "df2 = pd.DataFrame(round22)\n",
        "df3 = pd.DataFrame(round32)\n",
        "df4 = pd.DataFrame(round42)\n",
        "to_save1 = df1.to_csv(\"/content/drive/MyDrive/Colab Notebooks.csv\", index = False)\n",
        "to_save2 = df2.to_csv(\"/content/drive/MyDrive/Colab Notebooks.csv\", index = False)\n",
        "to_save3 = df3.to_csv(\"/content/drive/MyDrive/Colab Notebooks.csv\", index = False)\n",
        "to_save4 = df4.to_csv(\"/content/drive/MyDrive/Colab Notebooks.csv\", index = False)"
      ],
      "metadata": {
        "id": "Mqq6TuHa3PG5"
      },
      "execution_count": 123,
      "outputs": []
    },
    {
      "cell_type": "code",
      "source": [
        ""
      ],
      "metadata": {
        "id": "wemF7SNl9tTw"
      },
      "execution_count": 135,
      "outputs": []
    },
    {
      "cell_type": "code",
      "source": [
        "# gives the differnce of wavelengths which is constant\n",
        "diefferent_wavlength = []\n",
        "for i in range(355):\n",
        "  valu1 = 0\n",
        "  valu2 = 1\n",
        "  diference = (remove_duplicates[i+1])-(remove_duplicates[i])\n",
        "  diefferent_wavlength.append(diference)\n",
        "diefferent_wavlength"
      ],
      "metadata": {
        "id": "Z5PG_9tbuvoG"
      },
      "execution_count": 142,
      "outputs": []
    },
    {
      "cell_type": "code",
      "source": [
        "# makes the plot with all required properties \n",
        "plt.plot(x_axis,diefferent_wavlength, label = \"row data\")\n",
        "plt.plot(x_axis, values1 of reduced data, label = \"average1\")\n",
        "plt.plot(x_axis, values2 of reduced data, label = \"average2\")\n",
        "plt.plot(x_axis, values3 of reduced data, label = \"average3\")\n",
        "plt.plot(x_axis, values4 of reduced data, label = \"average4\")\n",
        "plt.ylabel(\"Difference in wavelengths\")\n",
        "plt.xlabel(\"Time in (s)\")\n",
        "plt.title(\"Reaction Path\")\n",
        "plt.legend()\n",
        "plt.show"
      ],
      "metadata": {
        "colab": {
          "base_uri": "https://localhost:8080/",
          "height": 313
        },
        "id": "-uosCgFb3Uxq",
        "outputId": "c08412b4-359e-4f69-8d44-6ef163f0e9e2"
      },
      "execution_count": 139,
      "outputs": [
        {
          "output_type": "execute_result",
          "data": {
            "text/plain": [
              "<function matplotlib.pyplot.show>"
            ]
          },
          "metadata": {},
          "execution_count": 139
        },
        {
          "output_type": "display_data",
          "data": {
            "text/plain": [
              "<Figure size 432x288 with 1 Axes>"
            ],
            "image/png": "[encoded data removed]"
          },
          "metadata": {
            "needs_background": "light"
          }
        }
      ]
    },
    {
      "cell_type": "code",
      "source": [
        ""
      ],
      "metadata": {
        "id": "fKuhNkDxHTNg"
      },
      "execution_count": null,
      "outputs": []
    }
  ]
}